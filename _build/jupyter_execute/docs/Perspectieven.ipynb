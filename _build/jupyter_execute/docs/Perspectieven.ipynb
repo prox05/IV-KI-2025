{
 "cells": [
  {
   "cell_type": "markdown",
   "metadata": {},
   "source": [
    "# Perspectieven"
   ]
  },
  {
   "cell_type": "markdown",
   "metadata": {},
   "source": [
    "## Perspectief 1: Kwetsbare huishoudens en voedselprijzen"
   ]
  },
  {
   "cell_type": "markdown",
   "metadata": {},
   "source": [
    "Sinds de COVID-19-pandemie zijn voedselprijzen in Zweden aanzienlijk gestegen. Deze stijging werd deels veroorzaakt door wereldwijde verstoringen in handelsketens, hogere transportkosten en fluctuaties in de energieprijzen. Vooral voor huishoudens met lage inkomens of een zwakke arbeidsmarktpositie zijn de gevolgen van deze prijsstijgingen voelbaar (Akter, 2020)."
   ]
  },
  {
   "cell_type": "markdown",
   "metadata": {},
   "source": [
    "Hoewel Zweden bekendstaat als een welvarend land met een uitgebreid sociaal vangnet, is de inkomensongelijkheid sinds de jaren 2010 toegenomen, met name onder huishoudens met kinderen (Holmberg, 2024). Volgens Dietrich et al. (2021) kunnen pandemieën de voedselzekerheid bedreigen, vooral voor groepen die al kwetsbaar zijn. In Zweden wordt die kwetsbaarheid vaak zichtbaar bij alleenstaande ouders, gezinnen met migratieachtergrond of mensen met tijdelijke of deeltijdcontracten. Wanneer de prijzen van basisproducten als brood, melk en eieren stijgen terwijl inkomens achterblijven, ontstaan er risico’s op voedselonzekerheid, ook in een hoogontwikkeld land als Zweden.\n"
   ]
  },
  {
   "cell_type": "markdown",
   "metadata": {},
   "source": [
    "(Hier visualisatie cpi)\n",
    "(Uitleg over visualisatie)\n"
   ]
  },
  {
   "cell_type": "markdown",
   "metadata": {},
   "source": [
    "Een analyse van de Consumer Price Index (SCB, 2025) laat zien dat de maandelijkse voedselprijsveranderingen na 2020 sterk zijn gestegen, vooral tijdens en vlak na de pandemie. Tegelijkertijd blijkt uit inkomensgegevens van Eurostat (2024) dat de netto-inkomens van deze groepen niet gelijke tred hielden met de inflatie. Hierdoor kunnen huishoudens minder kopen voor hetzelfde bedrag. Het probleem is dus een relatieve koopkrachtvermindering die leidt tot sociale uitsluiting en onzekerheid over de primaire levensbehoeften (Crawley & Theloudis, 2024)."
   ]
  },
  {
   "cell_type": "markdown",
   "metadata": {},
   "source": [
    "(Hier visualisatie inkomen vs cpi)\n",
    "(Uitleg over visualisatie)\n"
   ]
  },
  {
   "cell_type": "markdown",
   "metadata": {},
   "source": [
    "### Argumenten perspectief 1:"
   ]
  },
  {
   "cell_type": "markdown",
   "metadata": {},
   "source": [
    "- Voedselprijzen zijn sterker gestegen dan inkomens voor kwetsbare groepen (SCB, 2025; Eurostat, 2024).\n",
    "- Economische verstoringen versterken al bestaande ongelijkheden (Dietrich et al., 2021).\n",
    "- Inkomensondersteuning blijft achter bij structurele prijsveranderingen (Holmberg, 2024).\n"
   ]
  },
  {
   "cell_type": "markdown",
   "metadata": {},
   "source": [
    "## Perspectief 2: Inkomensgroei en economische stabiliteit"
   ]
  },
  {
   "cell_type": "markdown",
   "metadata": {},
   "source": [
    "Een ander perspectief stelt dat Zweden zich economisch relatief goed heeft weten te handhaven, zelfs tijdens crisissituaties zoals COVID-19. Statistieken van de World Bank (2024) en Eurostat (2024) tonen aan dat het gemiddelde netto-inkomen in Zweden over de afgelopen tien jaar een gestage groei heeft doorgemaakt. In combinatie met een relatief hoge arbeidsparticipatiegraad en lage werkloosheid suggereert dit dat veel huishoudens wel de middelen hebben om stijgende voedselprijzen op te vangen."
   ]
  },
  {
   "cell_type": "markdown",
   "metadata": {},
   "source": [
    "(Hier visualisatie netto inkomen)\n",
    "(Uitleg visualisatie)\n"
   ]
  },
  {
   "cell_type": "markdown",
   "metadata": {},
   "source": [
    "Bovendien is het Zweedse fiscale systeem progressief: hogere inkomens dragen meer belasting af en er bestaan toeslagen voor gezinnen met kinderen (Holmberg, 2024). Deze combinatie van inkomensgroei en herverdeling zorgt ervoor dat de gemiddelde Zweedse consument vandaag meer netto te besteden heeft dan tien jaar geleden, ondanks dat er inflatie heeft plaatsgevonden"
   ]
  },
  {
   "cell_type": "markdown",
   "metadata": {},
   "source": [
    "Daarbij moet worden opgemerkt dat de consumptieve bestedingen in Zweden sinds 2021 opnieuw zijn toegenomen, wat wijst op een herstel van het vertrouwen in de economie (World Bank, 2024). Volgens Crawley en Theloudis (2024) is het verschil in koopkracht vaak eerder een kwestie van verdeling dan van absolute afname. Dat betekent dat de gemiddelde consument zich nog steeds voedselprijzen kan veroorloven, maar dat sommige groepen achterblijven."
   ]
  },
  {
   "cell_type": "markdown",
   "metadata": {},
   "source": [
    "(Hier visualisatie inkomensverdeling)\n",
    "(Uitleg visualisatie)\n"
   ]
  },
  {
   "cell_type": "markdown",
   "metadata": {},
   "source": [
    "### Argumenten perspectief 2:"
   ]
  },
  {
   "cell_type": "markdown",
   "metadata": {},
   "source": [
    "- Gemiddeld netto-inkomen is gestegen over 2014–2024 (Eurostat, 2024).\n",
    "- De economie herstelde zich na COVID-19 sneller dan verwacht (World Bank, 2024).\n",
    "- Huidige ongelijkheid gaat meer over verdeling dan over absolute inkomens (Crawley & Theloudis, 2024).\n"
   ]
  }
 ],
 "metadata": {
  "celltoolbar": "Tags",
  "colab": {
   "provenance": []
  },
  "kernelspec": {
   "display_name": "Python (jupyterbook)",
   "language": "python",
   "name": "jupyterbook"
  },
  "language_info": {
   "codemirror_mode": {
    "name": "ipython",
    "version": 3
   },
   "file_extension": ".py",
   "mimetype": "text/x-python",
   "name": "python",
   "nbconvert_exporter": "python",
   "pygments_lexer": "ipython3",
   "version": "3.10.17"
  }
 },
 "nbformat": 4,
 "nbformat_minor": 4
}