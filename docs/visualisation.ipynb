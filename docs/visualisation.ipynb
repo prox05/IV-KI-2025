{
  "nbformat": 4,
  "nbformat_minor": 0,
  "metadata": {
    "colab": {
      "provenance": []
    },
    "kernelspec": {
      "name": "python3",
      "display_name": "Python 3"
    },
    "language_info": {
      "name": "python"
    }
  },
  "cells": [
    {
      "cell_type": "code",
      "execution_count": null,
      "metadata": {
        "id": "s8TViAMwCq2e"
      },
      "outputs": [],
      "source": [
        "import plotly.graph_objs as go\n",
        "import plotly.express as px\n",
        "import pandas as pd\n",
        "\n",
        "from plotly.offline import init_notebook_mode\n",
        "init_notebook_mode(connected=True)"
      ]
    },
    {
      "cell_type": "code",
      "source": [
        "# df_food_prices = pd.read_csv('/dataset_sources/Food_Prices.csv')\n",
        "# df_food_prices_sweden = df_food_prices[df_food_prices['Country '] == 'Sweden'].drop('Country ', axis=1)\n",
        "# df_food_prices_sweden.to_csv('/filtered/Food_Prices_Sweden.csv', index=False)\n",
        "df_food_prices_sweden = pd.read_csv('/filtered/Food_Prices,csv')\n",
        "df_food_prices_sweden.info()\n",
        "# df_food_prices_sweden.describe()\n",
        "df_food_prices_sweden.head(n=5)"
      ],
      "metadata": {
        "id": "9JtlbmYsDslW"
      },
      "execution_count": null,
      "outputs": []
    },
    {
      "cell_type": "code",
      "source": [
        "# df_wdi_indicators = pd.read_csv('/dataset_sources/WDI_Indicators_MainData.csv')\n",
        "# df_wdi_indicators_sweden = df_wdi_indicators[df_wdi_indicators['Country Name'] == 'Sweden'].drop('Country Name', axis=1).drop('Country Code', axis=1)\n",
        "# df_wdi_indicators_sweden.to_csv(\"/filtered/WDI_Indicators_Sweden.csv\", index=False)\n",
        "df_wdi_indicators_sweden = pd.read_csv('/filtered/WDI_Indicators_Sweden.csv')\n",
        "df_wdi_indicators_sweden.info()\n",
        "# df_wdi_indicators_sweden.describe()\n",
        "df_wdi_indicators_sweden.head(n=5)"
      ],
      "metadata": {
        "id": "0iwWAo29DxGR"
      },
      "execution_count": null,
      "outputs": []
    },
    {
      "cell_type": "code",
      "source": [
        "# df_annual_net_earnings = pd.read_csv('/dataset_sources/estat_earn_nt_net_en.csv')\n",
        "# df_annual_net_earnings_sweden = df_annual_net_earnings[df_annual_net_earnings['geo'] == 'Sweden'].drop('geo', axis=1)\n",
        "# df_annual_net_earnings_sweden.to_csv('/filtered/Annual_Net_Earnings_Sweden.csv', index=False)\n",
        "df_annual_net_earnings_sweden = pd.read_csv('/filtered/Annual_Net_Earnings_Sweden.csv')\n",
        "df_annual_net_earnings_sweden.info()\n",
        "# df_annual_net_earnings_sweden.describe()\n",
        "df_annual_net_earnings_sweden.head(n=5)"
      ],
      "metadata": {
        "id": "Bfg8u9iZD1oR"
      },
      "execution_count": null,
      "outputs": []
    },
    {
      "cell_type": "markdown",
      "source": [
        "# Options visualisation\n",
        "- Multibar chart showing net income through the years for a view categories\n",
        "- Distribution income sources donut chart maybe\n",
        "- Food Prices per product or per category aka essential (bread) and luxury food\n",
        "- Line chart comparing income and food prices\n",
        "need more\n",
        "\n",
        "**Gebruik Lecture 4-4 pagina 11** om te kijken wat voor plot het beste past."
      ],
      "metadata": {
        "id": "Em1qmnw5FMtt"
      }
    }
  ]
}
