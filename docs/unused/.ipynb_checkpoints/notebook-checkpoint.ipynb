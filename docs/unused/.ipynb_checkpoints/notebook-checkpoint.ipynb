{
 "cells": [
  {
   "cell_type": "markdown",
   "metadata": {},
   "source": [
    "# Datasets en Preprocessing"
   ]
  },
  {
   "cell_type": "code",
   "execution_count": 1,
   "metadata": {
    "id": "s8TViAMwCq2e"
   },
   "outputs": [
    {
     "data": {
      "text/html": [
       "        <script type=\"text/javascript\">\n",
       "        window.PlotlyConfig = {MathJaxConfig: 'local'};\n",
       "        if (window.MathJax && window.MathJax.Hub && window.MathJax.Hub.Config) {window.MathJax.Hub.Config({SVG: {font: \"STIX-Web\"}});}\n",
       "        </script>\n",
       "        <script type=\"module\">import \"https://cdn.plot.ly/plotly-3.0.1.min\"</script>\n",
       "        "
      ]
     },
     "metadata": {},
     "output_type": "display_data"
    }
   ],
   "source": [
    "# All imports\n",
    "\n",
    "import pandas as pd\n",
    "import numpy as np\n",
    "import seaborn as sns\n",
    "import matplotlib.pyplot as plt\n",
    "import plotly.graph_objs as go\n",
    "import plotly.express as px\n",
    "import calendar\n",
    "\n",
    "from pyaxis import pyaxis\n",
    "\n",
    "from plotly.offline import init_notebook_mode\n",
    "init_notebook_mode(connected=True)"
   ]
  },
  {
   "cell_type": "markdown",
   "metadata": {},
   "source": [
    "## Dataset 1: Consumer Price Index"
   ]
  },
  {
   "cell_type": "code",
   "execution_count": 2,
   "metadata": {},
   "outputs": [],
   "source": [
    "# Load source dataset 1\n",
    "\n",
    "CPI_url = \"dataset_sources/CPI.px\"\n",
    "CPI_decoded = pyaxis.parse(uri = CPI_url , encoding = 'ISO-8859-2')\n",
    "df_CPI = CPI_decoded[\"DATA\"]\n",
    "df_CPI.to_csv('processed_data/CPI.csv', index=False)\n",
    "\n",
    "# Load converted source dataset 1\n",
    "df_CPI = pd.read_csv('processed_data/CPI.csv')\n",
    "# df_CPI.info()\n",
    "# df_CPI.head(n=5)"
   ]
  },
  {
   "cell_type": "markdown",
   "metadata": {},
   "source": [
    "### Source"
   ]
  },
  {
   "cell_type": "markdown",
   "metadata": {},
   "source": [
    "<table>\n",
    "    <tr>\n",
    "        <td>\n",
    "            Naam\n",
    "        </td>\n",
    "        <td>\n",
    "            Consumer Price Index (CPI), monthly changes, percent by economic indicator and month\n",
    "        </td>\n",
    "    </tr>\n",
    "    <tr>\n",
    "        <td>\n",
    "            Source URL\n",
    "        </td>\n",
    "        <td>\n",
    "            https://www.statistikdatabasen.scb.se/pxweb/en/ssd/START__PR__PR0101__PR0101S/SnabbStatPR0101/\n",
    "        </td>\n",
    "    </tr>\n",
    "</table>"
   ]
  },
  {
   "cell_type": "markdown",
   "metadata": {},
   "source": [
    "Deze dataset, komt van Statistics Sweden, het statestiek bureau van de Zweedse overheid. Onze 'source' dataset komt van de URL hierboven, met:\n",
    "- Observatoins: Montly changes\n",
    "- economic indicator: all\n",
    "- month: all (2014M01 t/m 2025M05)"
   ]
  },
  {
   "cell_type": "markdown",
   "metadata": {},
   "source": [
    "### Beschrijving\n",
    "TODO beschrijving dataset o.a. bevat alleen zweden"
   ]
  },
  {
   "cell_type": "markdown",
   "metadata": {},
   "source": [
    "### Processing"
   ]
  },
  {
   "cell_type": "code",
   "execution_count": 3,
   "metadata": {},
   "outputs": [],
   "source": [
    "# Code processig en filterig hier\n",
    "\n",
    "# df_CPI_processed = \n",
    "# df_CPI_processed.to_csv('processed_data/CPI_2014-2024.csv', index=False)"
   ]
  },
  {
   "cell_type": "code",
   "execution_count": 4,
   "metadata": {},
   "outputs": [],
   "source": [
    "# Laad processed data\n",
    "\n",
    "# df_CPI_processed = pd.read_csv('processed_data/CPI_2024-2024.csv')"
   ]
  },
  {
   "cell_type": "markdown",
   "metadata": {},
   "source": [
    "TODO beschrijf processing"
   ]
  },
  {
   "cell_type": "markdown",
   "metadata": {},
   "source": [
    "<table>\n",
    "    <thead>\n",
    "        <tr>\n",
    "            <td></td>\n",
    "            <td>\n",
    "                Source\n",
    "            </td>\n",
    "            <td>\n",
    "                Na preprocessing\n",
    "            </td>\n",
    "        </tr>\n",
    "    </thead>\n",
    "    <tbody>\n",
    "        <tr>\n",
    "            <td>\n",
    "                Datapunten\n",
    "            </td>\n",
    "            <td>\n",
    "                822\n",
    "            </td>\n",
    "            <td>\n",
    "                # TODO\n",
    "            </td>\n",
    "        </tr>\n",
    "        <tr>\n",
    "            <td>\n",
    "                Variabelen\n",
    "            </td>\n",
    "            <td>\n",
    "                4\n",
    "            </td>\n",
    "            <td>\n",
    "                # TODO\n",
    "            </td>\n",
    "        </tr>\n",
    "        <tr>\n",
    "            <td>\n",
    "                Tijdspanne\n",
    "            </td>\n",
    "            <td>\n",
    "                Jan 2014 - Juni 2025\n",
    "            </td>\n",
    "            <td>\n",
    "                Jan 2014 - Dec 2024\n",
    "            </td>\n",
    "        </tr>\n",
    "    </tbody>\n",
    "</table>"
   ]
  },
  {
   "cell_type": "markdown",
   "metadata": {},
   "source": [
    "## Dataset 2: World Development Indicators"
   ]
  },
  {
   "cell_type": "code",
   "execution_count": 5,
   "metadata": {},
   "outputs": [],
   "source": [
    "# Laad source dataset 2\n",
    "\n",
    "df_WDI_all = pd.read_csv('dataset_sources/WDI_Data.csv')"
   ]
  },
  {
   "cell_type": "markdown",
   "metadata": {},
   "source": [
    "### Source"
   ]
  },
  {
   "cell_type": "markdown",
   "metadata": {},
   "source": [
    "<table>\n",
    "    <tr>\n",
    "        <td>\n",
    "            Naam\n",
    "        </td>\n",
    "        <td>\n",
    "            World Development Indicators\n",
    "        </td>\n",
    "    </tr>\n",
    "    <tr>\n",
    "        <td>\n",
    "            Source URL\n",
    "        </td>\n",
    "        <td>\n",
    "            https://databank.worldbank.org/source/world-development-indicators\n",
    "        </td>\n",
    "    </tr>\n",
    "</table>"
   ]
  },
  {
   "cell_type": "markdown",
   "metadata": {},
   "source": [
    "Deze dataset, komt van World Bank Group. Onze 'source' dataset komt van de URL hierboven, met:\n",
    "- Database: World Development Indicators\n",
    "- Country: Sweden\n",
    "- Series: Economic Policy & Debt (all), Financial Sector (all), Poverty (all)\n",
    "- Time: all (1975 - 2024)"
   ]
  },
  {
   "cell_type": "markdown",
   "metadata": {},
   "source": [
    "### Beschrijving\n",
    "TODO"
   ]
  },
  {
   "cell_type": "markdown",
   "metadata": {},
   "source": [
    "### Processing"
   ]
  },
  {
   "cell_type": "code",
   "execution_count": 6,
   "metadata": {},
   "outputs": [],
   "source": [
    "# Code processig en filterig hier\n",
    "df_temp = df_WDI_all\n",
    "for x in range(1975, 2014):\n",
    "    st = str(x) + ' [YR' + str(x) + ']'\n",
    "    df_temp = df_temp.drop(st, axis=1)\n",
    "df_WDI_processed = df_temp\n",
    "df_WDI_processed.to_csv('processed_data/WDI_2014-2024', index=False)"
   ]
  },
  {
   "cell_type": "code",
   "execution_count": 7,
   "metadata": {},
   "outputs": [],
   "source": [
    "# Laad processed data\n",
    "\n",
    "df_WDI_processed = pd.read_csv('processed_data/WDI_2014-2024')\n",
    "# df_WDI_processed.info()\n",
    "# df_WDI_processed.head(n-5)"
   ]
  },
  {
   "cell_type": "markdown",
   "metadata": {},
   "source": [
    "TODO beschrijf processing"
   ]
  },
  {
   "cell_type": "markdown",
   "metadata": {},
   "source": [
    "<table>\n",
    "    <thead>\n",
    "        <tr>\n",
    "            <td></td>\n",
    "            <td>\n",
    "                Source\n",
    "            </td>\n",
    "            <td>\n",
    "                Na preprocessing\n",
    "            </td>\n",
    "        </tr>\n",
    "    </thead>\n",
    "    <tbody>\n",
    "        <tr>\n",
    "            <td>\n",
    "                Datapunten\n",
    "            </td>\n",
    "            <td>\n",
    "                # TODO\n",
    "            </td>\n",
    "            <td>\n",
    "                # TODO\n",
    "            </td>\n",
    "        </tr>\n",
    "        <tr>\n",
    "            <td>\n",
    "                Variabelen\n",
    "            </td>\n",
    "            <td>\n",
    "                # TODO\n",
    "            </td>\n",
    "            <td>\n",
    "                # TODO\n",
    "            </td>\n",
    "        </tr>\n",
    "        <tr>\n",
    "            <td>\n",
    "                Tijdspanne\n",
    "            </td>\n",
    "            <td>\n",
    "                1975 - 2025\n",
    "            </td>\n",
    "            <td>\n",
    "                2014 - 2024\n",
    "            </td>\n",
    "        </tr>\n",
    "    </tbody>\n",
    "</table>"
   ]
  },
  {
   "cell_type": "markdown",
   "metadata": {},
   "source": [
    "## Dataset 3: Annual net earnings"
   ]
  },
  {
   "cell_type": "code",
   "execution_count": 8,
   "metadata": {
    "id": "Bfg8u9iZD1oR"
   },
   "outputs": [],
   "source": [
    "# Laad source dataset 3\n",
    "\n",
    "df_annual_net_earnings = pd.read_csv('dataset_sources/estat_earn_nt_net_en.csv')"
   ]
  },
  {
   "cell_type": "markdown",
   "metadata": {},
   "source": [
    "### Source"
   ]
  },
  {
   "cell_type": "markdown",
   "metadata": {},
   "source": [
    "<table>\n",
    "    <tr>\n",
    "        <td>\n",
    "            Naam\n",
    "        </td>\n",
    "        <td>\n",
    "            Annual net earnings\n",
    "        </td>\n",
    "    </tr>\n",
    "    <tr>\n",
    "        <td>\n",
    "            Source URL\n",
    "        </td>\n",
    "        <td>\n",
    "            https://ec.europa.eu/eurostat/databrowser/bookmark/6adafcb6-297e-4d27-b687-9b7c189c264c?lang=en\n",
    "        </td>\n",
    "    </tr>\n",
    "</table>"
   ]
  },
  {
   "cell_type": "markdown",
   "metadata": {},
   "source": [
    "Deze dataset komt van eurostat. Eurostat is van de europese commissie. Wij hebben onze 'source' dataset van de URL hierboven, met:\n",
    "- Row: Geopolitical entity: Sweden\n",
    "- Column: all\n",
    "- Dimensions: all"
   ]
  },
  {
   "cell_type": "markdown",
   "metadata": {},
   "source": [
    "### Beschrijving"
   ]
  },
  {
   "cell_type": "markdown",
   "metadata": {},
   "source": [
    "TODO"
   ]
  },
  {
   "cell_type": "markdown",
   "metadata": {},
   "source": [
    "### Processing"
   ]
  },
  {
   "cell_type": "code",
   "execution_count": 9,
   "metadata": {},
   "outputs": [
    {
     "ename": "NameError",
     "evalue": "name 'df_annual_net_earnings_sweden' is not defined",
     "output_type": "error",
     "traceback": [
      "\u001b[31m---------------------------------------------------------------------------\u001b[39m",
      "\u001b[31mNameError\u001b[39m                                 Traceback (most recent call last)",
      "\u001b[36mCell\u001b[39m\u001b[36m \u001b[39m\u001b[32mIn[9]\u001b[39m\u001b[32m, line 3\u001b[39m\n\u001b[32m      1\u001b[39m \u001b[38;5;66;03m# Code processing en sla op\u001b[39;00m\n\u001b[32m----> \u001b[39m\u001b[32m3\u001b[39m df_annual_net_earnings_processed = df_annual_net_earnings[((df_annual_net_earnings[\u001b[33m'\u001b[39m\u001b[33mgeo\u001b[39m\u001b[33m'\u001b[39m] == \u001b[33m'\u001b[39m\u001b[33mSweden\u001b[39m\u001b[33m'\u001b[39m) & (\u001b[43mdf_annual_net_earnings_sweden\u001b[49m[\u001b[33m'\u001b[39m\u001b[33mTIME_PERIOD\u001b[39m\u001b[33m'\u001b[39m] >= \u001b[32m2014\u001b[39m))].drop(\u001b[33m'\u001b[39m\u001b[33mgeo\u001b[39m\u001b[33m'\u001b[39m, axis=\u001b[32m1\u001b[39m)\n\u001b[32m      4\u001b[39m df_annual_net_earnings_processed.to_csv(\u001b[33m'\u001b[39m\u001b[33mprocessed_data/Annual_Net_Earnings_Sweden_2014-2024.csv\u001b[39m\u001b[33m'\u001b[39m, index=\u001b[38;5;28;01mFalse\u001b[39;00m)\n",
      "\u001b[31mNameError\u001b[39m: name 'df_annual_net_earnings_sweden' is not defined"
     ]
    }
   ],
   "source": [
    "# Code processing en sla op\n",
    "\n",
    "df_annual_net_earnings_processed = df_annual_net_earnings[((df_annual_net_earnings['geo'] == 'Sweden') & (df_annual_net_earnings['TIME_PERIOD'] >= 2014))].drop('geo', axis=1)\n",
    "df_annual_net_earnings_processed.to_csv('processed_data/Annual_Net_Earnings_Sweden_2014-2024.csv', index=False)"
   ]
  },
  {
   "cell_type": "code",
   "execution_count": null,
   "metadata": {},
   "outputs": [],
   "source": [
    "# Laad processed data\n",
    "\n",
    "df_annual_net_earnings_processed = pd.read_csv('processed_data/Annual_Net_Earnings_Sweden_2014-2024.csv')\n",
    "# df_annual_net_earnings_processed.info()\n",
    "# df_annual_net_earnings_processed.head(n=5)"
   ]
  },
  {
   "cell_type": "markdown",
   "metadata": {},
   "source": [
    "<table>\n",
    "    <thead>\n",
    "        <tr>\n",
    "            <td></td>\n",
    "            <td>\n",
    "                Source\n",
    "            </td>\n",
    "            <td>\n",
    "                Na preprocessing\n",
    "            </td>\n",
    "        </tr>\n",
    "    </thead>\n",
    "    <tbody>\n",
    "        <tr>\n",
    "            <td>\n",
    "                Datapunten\n",
    "            </td>\n",
    "            <td>\n",
    "                # TODO\n",
    "            </td>\n",
    "            <td>\n",
    "                # TODO\n",
    "            </td>\n",
    "        </tr>\n",
    "        <tr>\n",
    "            <td>\n",
    "                Variabelen\n",
    "            </td>\n",
    "            <td>\n",
    "                # TODO\n",
    "            </td>\n",
    "            <td>\n",
    "                # TODO\n",
    "            </td>\n",
    "        </tr>\n",
    "        <tr>\n",
    "            <td>\n",
    "                Tijdspanne\n",
    "            </td>\n",
    "            <td>\n",
    "                2000 - 2024\n",
    "            </td>\n",
    "            <td>\n",
    "                2014 - 2024\n",
    "            </td>\n",
    "        </tr>\n",
    "    </tbody>\n",
    "</table>"
   ]
  },
  {
   "cell_type": "code",
   "execution_count": null,
   "metadata": {
    "id": "9JtlbmYsDslW"
   },
   "outputs": [],
   "source": [
    "# Deze code is in principe verouderd, en niet meer nodig.\n",
    "\n",
    "df_food_prices = pd.read_csv('dataset_sources/Food_Prices.csv')\n",
    "df_food_prices_sweden = df_food_prices[df_food_prices['Country '] == 'Sweden'].drop('Country ', axis=1)\n",
    "df_food_prices_sweden.to_csv('processed_data/Food_Prices_Sweden.csv', index=False)\n",
    "df_food_prices_sweden = pd.read_csv('processed_data/Food_Prices_Sweden.csv')\n",
    "df_food_prices_sweden_years = df_food_prices_sweden[df_food_prices_sweden['Year '] <= 2021]\n",
    "df_food_prices_sweden_years.to_csv('processed_data/Food_Prices_Sweden_2018-2021.csv', index=False)\n",
    "df_food_prices_sweden_years = pd.read_csv('processed_data/Food_Prices_Sweden_2018-2021.csv')\n",
    "# df_food_prices_sweden_years.info()\n",
    "# df_food_prices_sweden.describe()\n",
    "# df_food_prices_sweden_years.head(n=5)"
   ]
  },
  {
   "cell_type": "code",
   "execution_count": null,
   "metadata": {
    "id": "0iwWAo29DxGR",
    "scrolled": true
   },
   "outputs": [],
   "source": [
    "# Deze code is in principe verouderd, en niet meer nodig.\n",
    "df_wdi_indicators = pd.read_csv('dataset_sources/WDI_Indicators_MainData.csv')\n",
    "df_wdi_indicators_sweden = df_wdi_indicators[df_wdi_indicators['Country Name'] == 'Sweden'].drop('Country Name', axis=1).drop('Country Code', axis=1)\n",
    "df_wdi_indicators_sweden.to_csv(\"filtered/WDI_Indicators_Sweden.csv\", index=False)\n",
    "df_wdi_indicators_sweden = pd.read_csv('filtered/WDI_Indicators_Sweden.csv')\n",
    "df_wdi_indicators_sweden_years = df_wdi_indicators_sweden[df_wdi_indicators_sweden['Time'] >= 2018]\n",
    "df_wdi_indicators_sweden_years.to_csv('filtered/WDI_Indicators_Sweden_2018-2021.csv', index=False)\n",
    "df_wdi_indicators_sweden_years = pd.read_csv('filtered/WDI_Indicators_Sweden_2018-2021.csv')\n",
    "# df_wdi_indicators_sweden_years.info()\n",
    "# df_wdi_indicators_sweden.describe()\n",
    "# df_wdi_indicators_sweden_years.head(n=5)"
   ]
  },
  {
   "cell_type": "markdown",
   "metadata": {
    "id": "Em1qmnw5FMtt"
   },
   "source": [
    "# Options visualisation\n",
    "- Multibar chart showing net income through the years for a view categories\n",
    "- Distribution income sources donut chart maybe\n",
    "- Food Prices per product or per category aka essential (bread) and luxury food\n",
    "- Line chart comparing income and food prices\n",
    "need more\n",
    "\n",
    "**Gebruik Lecture 4-4 pagina 11** om te kijken wat voor plot het beste past."
   ]
  },
  {
   "cell_type": "code",
   "execution_count": null,
   "metadata": {},
   "outputs": [],
   "source": [
    "import pandas as pd\n",
    "import numpy as np\n",
    "import matplotlib.pyplot as plt\n",
    "import seaborn as sns\n",
    "import plotly.graph_objs as go\n",
    "import plotly.express as px\n",
    "import calendar\n",
    "\n",
    "sns.set(style=\"whitegrid\")\n",
    "\n",
    "income = pd.read_csv('filtered/Annual_Net_Earnings_Sweden_2018-2021.csv')\n",
    "\n",
    "income_sweden = income[(income['estruct'] == 'Total') & (income['TIME_PERIOD'] >= 2018) & (income['TIME_PERIOD'] <= 2021)]\n",
    "\n",
    "avg_income = income_sweden.groupby('TIME_PERIOD')['OBS_VALUE'].mean().reset_index()\n",
    "\n",
    "plt.figure(figsize=(8,5))\n",
    "sns.lineplot(data=avg_income, x='TIME_PERIOD', y='OBS_VALUE', marker='o')\n",
    "plt.title('Gemiddeld Jaarlijks Inkomen Zweden (2018-2021)')\n",
    "plt.xlabel('Jaar')\n",
    "plt.ylabel('Gemiddeld Inkomen (EUR)')\n",
    "plt.show()"
   ]
  },
  {
   "cell_type": "code",
   "execution_count": null,
   "metadata": {},
   "outputs": [],
   "source": [
    "sns.set(style=\"whitegrid\")\n",
    "\n",
    "income = pd.read_csv('filtered/Annual_Net_Earnings_Sweden.csv')\n",
    "\n",
    "avg_income = income[(income['estruct'] == 'Total')].groupby('TIME_PERIOD')['OBS_VALUE'].mean().reset_index()\n",
    "\n",
    "plt.figure(figsize=(8,5))\n",
    "sns.lineplot(data=avg_income, x='TIME_PERIOD', y='OBS_VALUE', marker='o')\n",
    "plt.title('Gemiddeld Jaarlijks Inkomen Zweden (2000-2025)')\n",
    "plt.xlabel('Jaar')\n",
    "plt.ylabel('Gemiddeld Inkomen (EUR)')\n",
    "plt.show()"
   ]
  },
  {
   "cell_type": "code",
   "execution_count": null,
   "metadata": {
    "scrolled": true
   },
   "outputs": [],
   "source": [
    "grouped = income.pivot_table(index=\"TIME_PERIOD\", columns=\"estruct\", values=\"OBS_VALUE\")\n",
    "fig_grouped = go.Figure()\n",
    "\n",
    "for estruct in grouped.columns:\n",
    "    if estruct != 'Total':\n",
    "        fig_grouped.add_trace(go.Bar(name=estruct,\n",
    "            x=grouped.index,\n",
    "            y=grouped[estruct] / grouped['Total']\n",
    "        ))\n",
    "\n",
    "fig_grouped.update_layout(\n",
    "    barmode=\"group\",\n",
    "     xaxis=go.layout.XAxis(\n",
    "        type='category' # the type for the x axis is categorical\n",
    "    ),\n",
    "    yaxis=go.layout.YAxis(\n",
    "        tickformat=',.0%', # show as percentage\n",
    "    ),\n",
    "    title=\"Income sources throughout the years\",\n",
    "    height=400)\n",
    "fig_grouped.show()"
   ]
  },
  {
   "cell_type": "code",
   "execution_count": null,
   "metadata": {},
   "outputs": [],
   "source": [
    "grouped = income.pivot_table(index=\"ecase\", columns=\"estruct\", values=\"OBS_VALUE\")\n",
    "fig_grouped = go.Figure()\n",
    "\n",
    "for estruct in grouped.columns:\n",
    "    if estruct != 'Total':\n",
    "        fig_grouped.add_trace(go.Bar(name=estruct,\n",
    "            x=grouped.index,\n",
    "            y=grouped[estruct] / grouped['Total']\n",
    "        ))\n",
    "\n",
    "fig_grouped.update_layout(\n",
    "    barmode=\"group\",\n",
    "     xaxis=go.layout.XAxis(\n",
    "        type='category' # the type for the x axis is categorical\n",
    "    ),\n",
    "    yaxis=go.layout.YAxis(\n",
    "        tickformat=',.0%', # show as percentage\n",
    "    ),\n",
    "    title=\"Income sources per group\",\n",
    "    height=400)\n",
    "fig_grouped.show()"
   ]
  },
  {
   "cell_type": "code",
   "execution_count": null,
   "metadata": {},
   "outputs": [],
   "source": [
    "food = pd.read_csv('filtered/Food_Prices_Sweden_2018-2021.csv')\n",
    "\n",
    "\n",
    "food.columns = food.columns.str.strip()\n",
    "\n",
    "\n",
    "food_sweden = food[(food['Year'] >= 2018) & (food['Year'] <= 2021)]\n",
    "\n",
    "\n",
    "avg_food_price = food_sweden.groupby('Year')['Average Price'].mean().reset_index()\n",
    "\n",
    "avg_income['TIME_PERIOD'] = avg_income['TIME_PERIOD'].astype(int)\n",
    "avg_food_price['Year'] = avg_food_price['Year'].astype(int)\n",
    "\n",
    "combined = pd.merge(avg_income, avg_food_price, left_on='TIME_PERIOD', right_on='Year', how='inner')\n",
    "\n",
    "print('Combined shape:', combined.shape)\n",
    "print(combined)\n",
    "\n",
    "if not combined.empty:\n",
    "    plt.figure(figsize=(8,5))\n",
    "    sns.scatterplot(data=combined, x='OBS_VALUE', y='Average Price')\n",
    "    sns.regplot(data=combined, x='OBS_VALUE', y='Average Price', scatter=False, color='red')\n",
    "    plt.title('Relatie Gemiddeld Inkomen & Voedselprijs Zweden (2018-2021)')\n",
    "    plt.xlabel('Gemiddeld Inkomen (EUR)')\n",
    "    plt.ylabel('Gemiddelde Voedselprijs')\n",
    "    plt.show()\n",
    "else:\n",
    "    print('Error: Geen data na merge, controleer je filters en kolomnamen.')"
   ]
  },
  {
   "cell_type": "code",
   "execution_count": null,
   "metadata": {},
   "outputs": [],
   "source": [
    "wdi = pd.read_csv('filtered/WDI_Indicators_Sweden.csv')\n",
    "\n",
    "\n",
    "wdi.columns = wdi.columns.str.strip()\n",
    "\n",
    "\n",
    "combined = pd.merge(avg_income, avg_food_price, left_on='TIME_PERIOD', right_on='Year', how='inner')\n",
    "\n",
    "\n",
    "combined['Koopkracht'] = combined['OBS_VALUE'] / combined['Average Price']\n",
    "\n",
    "\n",
    "plt.figure(figsize=(8,5))\n",
    "sns.lineplot(data=combined, x='TIME_PERIOD', y='Koopkracht', marker='o')\n",
    "plt.title('Koopkracht Zweden (2018-2021)')\n",
    "plt.xlabel('Jaar')\n",
    "plt.ylabel('Koopkracht index (Gemiddeld Inkomen / Voedselprijs)')\n",
    "plt.grid(True)\n",
    "plt.show()"
   ]
  },
  {
   "cell_type": "code",
   "execution_count": null,
   "metadata": {},
   "outputs": [],
   "source": [
    "df = pd.read_csv('filtered/Food_Prices_Sweden_2018-2021.csv')\n",
    "\n",
    "df.columns = df.columns.str.strip()\n",
    "df['Price in USD'] = pd.to_numeric(df['Price in USD'], errors='coerce')\n",
    "df['Food Item'] = df['Food Item'].str.strip()\n",
    "\n",
    "gekozen_producten = ['Bread', 'Potatoes', 'Milk', 'Eggs']\n",
    "df_selectie = df[df['Food Item'].isin(gekozen_producten)]\n",
    "\n",
    "per_product = df_selectie.groupby(['Year', 'Food Item'])['Price in USD'].mean().reset_index()\n",
    "\n",
    "gemiddeld = df_selectie.groupby('Year')['Price in USD'].mean().reset_index()\n",
    "gemiddeld['Food Item'] = 'Gemiddelde prijs'\n",
    "\n",
    "alles = pd.concat([per_product, gemiddeld], ignore_index=True)\n",
    "alles['Year'] = alles['Year'].astype(int)\n",
    "\n",
    "vertaling = {\n",
    "    'Bread': 'Brood',\n",
    "    'Potatoes': 'Aardappelen',\n",
    "    'Milk': 'Melk',\n",
    "    'Eggs': 'Eieren',\n",
    "    'Gemiddelde prijs': 'Gemiddelde prijs'\n",
    "}\n",
    "alles['Voedselproduct'] = alles['Food Item'].map(vertaling)\n",
    "\n",
    "plt.figure(figsize=(10, 6))\n",
    "ax = sns.lineplot(data=alles, x='Year', y='Price in USD', \n",
    "                  hue='Voedselproduct', marker='o', palette='Set2')\n",
    "\n",
    "ax.set_xticks([2018, 2019, 2020, 2021])\n",
    "y_min = np.floor(alles['Price in USD'].min() * 10) / 10\n",
    "y_max = np.ceil(alles['Price in USD'].max() * 10) / 10\n",
    "yticks = np.arange(y_min, y_max + 0.1, 0.1)\n",
    "ax.set_yticks(yticks)\n",
    "\n",
    "plt.title('Gemiddelde voedselprijzen per jaar in Zweden (2018–2021, USD)', fontsize=14)\n",
    "plt.xlabel('Jaar')\n",
    "plt.ylabel('Gemiddelde prijs (USD)')\n",
    "\n",
    "plt.legend(title='Voedselproduct', bbox_to_anchor=(1.05, 1), loc='upper left')\n",
    "plt.grid(True)\n",
    "\n",
    "plt.tight_layout(rect=[0, 0, 0.85, 1])\n",
    "plt.show()"
   ]
  },
  {
   "cell_type": "code",
   "execution_count": null,
   "metadata": {},
   "outputs": [],
   "source": [
    "df = pd.read_csv('filtered/Food_Prices_Sweden_2018-2021.csv')\n",
    "\n",
    "df.columns = df.columns.str.strip()\n",
    "\n",
    "df = df[df['Year'].between(2018, 2021)]\n",
    "\n",
    "producten = ['Bread', 'Potatoes', 'Milk', 'Eggs']\n",
    "df = df[df['Food Item'].isin(producten)]\n",
    "\n",
    "df['Price in USD'] = pd.to_numeric(df['Price in USD'], errors='coerce')\n",
    "\n",
    "df['MonthName'] = df['Month'].apply(lambda x: calendar.month_abbr[int(x)])\n",
    "\n",
    "gemiddelde_prijs = df.groupby(['Year', 'MonthName'])['Price in USD'].mean().reset_index()\n",
    "\n",
    "heatmap_data = gemiddelde_prijs.pivot(index='Year', columns='MonthName', values='Price in USD')\n",
    "\n",
    "maanden_volgorde = [calendar.month_abbr[m] for m in range(1, 13)]\n",
    "heatmap_data = heatmap_data.reindex(columns=maanden_volgorde)\n",
    "\n",
    "plt.figure(figsize=(12, 5))\n",
    "sns.heatmap(heatmap_data, annot=True, fmt=\".2f\", cmap='YlOrRd', cbar_kws={'label': 'Gem. prijs (USD)'})\n",
    "plt.title('Gemiddelde maandelijkse prijs van basisvoedsel in Zweden (2018–2021, USD)', fontsize=14)\n",
    "plt.xlabel('Maand')\n",
    "plt.ylabel('Jaar')\n",
    "plt.tight_layout()\n",
    "plt.show()"
   ]
  },
  {
   "cell_type": "code",
   "execution_count": null,
   "metadata": {},
   "outputs": [],
   "source": [
    "df_food = pd.read_csv('filtered/Food_Prices_Sweden_2018-2021.csv')\n",
    "df_income = pd.read_csv('filtered/Annual_Net_Earnings_Sweden.csv')\n",
    "\n",
    "df_food.columns = df_food.columns.str.strip()\n",
    "df_income.columns = df_income.columns.str.strip()\n",
    "\n",
    "avg_price_per_year = df_food.groupby('Year')['Average Price'].mean()\n",
    "\n",
    "avg_income_per_year = df_income.groupby('TIME_PERIOD')['OBS_VALUE'].mean()\n",
    "\n",
    "avg_price_per_year.index = avg_price_per_year.index.astype(int)\n",
    "avg_income_per_year.index = avg_income_per_year.index.astype(int)\n",
    "\n",
    "avg_price_per_year = avg_price_per_year[(avg_price_per_year.index >= 2018) & (avg_price_per_year.index <= 2021)]\n",
    "avg_income_per_year = avg_income_per_year[(avg_income_per_year.index >= 2018) & (avg_income_per_year.index <= 2021)]\n",
    "\n",
    "fig, ax1 = plt.subplots(figsize=(8,5))\n",
    "\n",
    "color = 'tab:blue'\n",
    "ax1.set_xlabel('Jaar')\n",
    "ax1.set_ylabel('Gemiddelde Voedselprijs', color=color)\n",
    "ax1.plot(avg_price_per_year.index, avg_price_per_year.values, marker='o', color=color, label='Voedselprijs')\n",
    "ax1.tick_params(axis='y', labelcolor=color)\n",
    "\n",
    "ax2 = ax1.twinx()\n",
    "color = 'tab:green'\n",
    "ax2.set_ylabel('Gemiddeld Netto Inkomen', color=color)\n",
    "ax2.plot(avg_income_per_year.index, avg_income_per_year.values, marker='o', color=color, label='Netto Inkomen')\n",
    "ax2.tick_params(axis='y', labelcolor=color)\n",
    "\n",
    "plt.title('Vergelijking Voedselprijs en Netto Inkomen in Zweden (2018-2021)')\n",
    "ax1.grid(True)\n",
    "\n",
    "lines_1, labels_1 = ax1.get_legend_handles_labels()\n",
    "lines_2, labels_2 = ax2.get_legend_handles_labels()\n",
    "ax1.legend(lines_1 + lines_2, labels_1 + labels_2, loc='upper left')\n",
    "\n",
    "plt.show()"
   ]
  }
 ],
 "metadata": {
  "colab": {
   "provenance": []
  },
  "kernelspec": {
   "display_name": "Python 3 (ipykernel)",
   "language": "python",
   "name": "python3"
  },
  "language_info": {
   "codemirror_mode": {
    "name": "ipython",
    "version": 3
   },
   "file_extension": ".py",
   "mimetype": "text/x-python",
   "name": "python",
   "nbconvert_exporter": "python",
   "pygments_lexer": "ipython3",
   "version": "3.13.3"
  }
 },
 "nbformat": 4,
 "nbformat_minor": 4
}
