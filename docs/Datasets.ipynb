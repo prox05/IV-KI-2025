{
 "cells": [
  {
   "cell_type": "markdown",
   "metadata": {},
   "source": [
    "# Datasets en Preprocessing"
   ]
  },
  {
   "cell_type": "code",
   "execution_count": 6,
   "metadata": {
    "id": "s8TViAMwCq2e",
    "tags": [
     "remove-input"
    ]
   },
   "outputs": [
    {
     "data": {
      "text/html": [
       "        <script type=\"text/javascript\">\n",
       "        window.PlotlyConfig = {MathJaxConfig: 'local'};\n",
       "        if (window.MathJax && window.MathJax.Hub && window.MathJax.Hub.Config) {window.MathJax.Hub.Config({SVG: {font: \"STIX-Web\"}});}\n",
       "        </script>\n",
       "        <script type=\"module\">import \"https://cdn.plot.ly/plotly-3.0.1.min\"</script>\n",
       "        "
      ]
     },
     "metadata": {},
     "output_type": "display_data"
    }
   ],
   "source": [
    "# All imports\n",
    "\n",
    "import pandas as pd\n",
    "import numpy as np\n",
    "import seaborn as sns\n",
    "import matplotlib.pyplot as plt\n",
    "import plotly.graph_objs as go\n",
    "import plotly.express as px\n",
    "import calendar\n",
    "\n",
    "# from pyaxis import pyaxis\n",
    "\n",
    "from plotly.offline import init_notebook_mode\n",
    "init_notebook_mode(connected=True)"
   ]
  },
  {
   "cell_type": "markdown",
   "metadata": {},
   "source": [
    "## Dataset 1: Consumer Price Index"
   ]
  },
  {
   "cell_type": "code",
   "execution_count": 7,
   "metadata": {
    "tags": [
     "remove-input"
    ]
   },
   "outputs": [],
   "source": [
    "# Load source dataset 1\n",
    "\n",
    "# CPI_url = \"dataset_sources/CPI.px\"\n",
    "# CPI_decoded = pyaxis.parse(uri = CPI_url , encoding = 'ISO-8859-2')\n",
    "# df_CPI = CPI_decoded[\"DATA\"]\n",
    "# df_CPI.to_csv('processed_data/CPI.csv', index=False)\n",
    "\n",
    "# Load converted source dataset 1\n",
    "df_CPI = pd.read_csv('processed_data/CPI.csv')\n",
    "# df_CPI.info()\n",
    "# df_CPI.head(n=5)"
   ]
  },
  {
   "cell_type": "markdown",
   "metadata": {},
   "source": [
    "### Source"
   ]
  },
  {
   "cell_type": "markdown",
   "metadata": {},
   "source": [
    "<table>\n",
    "    <tr>\n",
    "        <td>\n",
    "            Bron:\n",
    "        </td>\n",
    "        <td>\n",
    "            Statistics Sweden(SCB)\n",
    "        </td>\n",
    "    </tr>\n",
    "    <tr>\n",
    "        <td>\n",
    "            Naam:\n",
    "        </td>\n",
    "        <td>\n",
    "            Consumer Price Index (CPI), monthly changes, percent by economic indicator and month\n",
    "        </td>\n",
    "    </tr>\n",
    "    <tr>\n",
    "        <td>\n",
    "            URL:\n",
    "        </td>\n",
    "        <td>\n",
    "            https://www.statistikdatabasen.scb.se/pxweb/en/ssd/START__PR__PR0101__PR0101S/SnabbStatPR0101/\n",
    "        </td>\n",
    "    </tr>\n",
    "</table>"
   ]
  },
  {
   "cell_type": "markdown",
   "metadata": {},
   "source": [
    "\n",
    "Deze dataset, komt van Statistics Sweden, het statestiek bureau van de Zweedse overheid. Onze 'source' dataset komt van de URL hierboven, met:\n",
    "\n",
    "- Observatoins: Montly changes\n",
    "- economic indicator: all\n",
    "- month: all (2014M01 t/m 2025M05)"
   ]
  },
  {
   "cell_type": "markdown",
   "metadata": {},
   "source": [
    "### Beschrijving\n",
    "De dataset geeft een overzicht van de maandelijkse veranderingen in CPI voor Zweden, van januari 2014 tot en met mei 2025. Het bied inzicht in inflatieontwikkelingen in Zweden. \n",
    "\n",
    "Het bevat zes verschillende prijsindexen:\n",
    "1. CPI: standaard\n",
    "2. CPI-CT: sluit belastingwijzigingen uit\n",
    "3. CPIF: houdt hypotheekrentes constant\n",
    "4. CPIF-CT: combinatie van CPIF en CPI-CT\n",
    "5. HICP: Geharmoniseerde consumentenprijsindex, methode om inflatie internationaal te vergelijken\n",
    "6. HICP-CT: hetzelfde als CPI-CT maar dan met de methode van HICP\n",
    "\n",
    "Elke maand wordt het percentage weergeven waarmee de prijzen zijn verandert ten opziche van de maand ervoor."
   ]
  },
  {
   "cell_type": "markdown",
   "metadata": {},
   "source": [
    "### Processing"
   ]
  },
  {
   "cell_type": "code",
   "execution_count": 8,
   "metadata": {
    "tags": [
     "remove-input"
    ]
   },
   "outputs": [],
   "source": [
    "# Code processig en filterig hier\n",
    "# TODO, Uncomment de de code hieronder, en zet de code er in; uncomment ook de load in Visualisatie.ipynb\n",
    "\n",
    "# df_CPI_processed = \n",
    "# df_CPI_processed.to_csv('processed_data/CPI_2014-2024.csv', index=False)"
   ]
  },
  {
   "cell_type": "code",
   "execution_count": 9,
   "metadata": {
    "tags": [
     "remove-input"
    ]
   },
   "outputs": [],
   "source": [
    "# Laad processed data\n",
    "\n",
    "df_CPI_processed = pd.read_csv('processed_data/CPI_2024-2024.csv')\n",
    "df_CPI_processed.info()"
   ]
  },
  {
   "cell_type": "markdown",
   "metadata": {},
   "source": [
    "Tijdens de preprocessing hebben we:\n",
    "\n",
    "- Alleen data voor Zweden geselecteerd\n",
    "- De tijdspanne beperkt tot januari 2014 t/m december 2024\n",
    "- De relevante kolommen behouden"
   ]
  },
  {
   "cell_type": "markdown",
   "metadata": {},
   "source": [
    "<table>\n",
    "    <thead>\n",
    "        <tr>\n",
    "            <td></td>\n",
    "            <td>\n",
    "                Source\n",
    "            </td>\n",
    "            <td>\n",
    "                Na preprocessing\n",
    "            </td>\n",
    "        </tr>\n",
    "    </thead>\n",
    "    <tbody>\n",
    "        <tr>\n",
    "            <td>\n",
    "                Datapunten\n",
    "            </td>\n",
    "            <td>\n",
    "                822\n",
    "            </td>\n",
    "            <td>\n",
    "                780\n",
    "            </td>\n",
    "        </tr>\n",
    "        <tr>\n",
    "            <td>\n",
    "                Variabelen\n",
    "            </td>\n",
    "            <td>\n",
    "                4\n",
    "            </td>\n",
    "            <td>\n",
    "                4\n",
    "            </td>\n",
    "        </tr>\n",
    "        <tr>\n",
    "            <td>\n",
    "                Tijdspanne\n",
    "            </td>\n",
    "            <td>\n",
    "                Jan 2014 - Juni 2025\n",
    "            </td>\n",
    "            <td>\n",
    "                Jan 2014 - Dec 2024\n",
    "            </td>\n",
    "        </tr>\n",
    "    </tbody>\n",
    "</table>"
   ]
  },
  {
   "cell_type": "markdown",
   "metadata": {},
   "source": [
    "## Dataset 2: World Development Indicators"
   ]
  },
  {
   "cell_type": "code",
   "execution_count": 10,
   "metadata": {
    "tags": [
     "remove-input"
    ]
   },
   "outputs": [],
   "source": [
    "# Laad source dataset 2\n",
    "\n",
    "df_WDI_all = pd.read_csv('dataset_sources/WDI_Data.csv')\n",
    "df_WDI_all.info()"
   ]
  },
  {
   "cell_type": "markdown",
   "metadata": {},
   "source": [
    "### Source"
   ]
  },
  {
   "cell_type": "markdown",
   "metadata": {},
   "source": [
    "<table>\n",
    "    <tr>\n",
    "        <td>\n",
    "            Bron:\n",
    "        </td>\n",
    "        <td>\n",
    "            World Bank Group\n",
    "        </td>\n",
    "    </tr>\n",
    "    <tr>\n",
    "        <td>\n",
    "            Naam:\n",
    "        </td>\n",
    "        <td>\n",
    "            World Development Indicators\n",
    "        </td>\n",
    "    </tr>\n",
    "    <tr>\n",
    "        <td>\n",
    "            URL:\n",
    "        </td>\n",
    "        <td>\n",
    "            https://databank.worldbank.org/source/world-development-indicators\n",
    "        </td>\n",
    "    </tr>\n",
    "</table>"
   ]
  },
  {
   "cell_type": "markdown",
   "metadata": {},
   "source": [
    "\n",
    "Deze dataset, komt van World Bank Group. Onze 'source' dataset komt van de URL hierboven, met:\n",
    "\n",
    "- Database: World Development Indicators\n",
    "- Country: Sweden\n",
    "- Series: Economic Policy & Debt (all), Financial Sector (all), Poverty (all)\n",
    "- Time: all (1975 - 2024)"
   ]
  },
  {
   "cell_type": "markdown",
   "metadata": {},
   "source": [
    "### Beschrijving\n",
    "Deze dataset bevat economische en financiële indicatoren voor Zweden van 2014 tot 2024. Een aantal belangrijke veriabelen zijn: BBP, bruto nationaal inkomen, armoedecijfers en de gini-index(inkomensongelijkheid). Deze gegevens vormen een belangrijk achtergrondkader voor het interpreteren van trends in voedselprijzen en inkomensverdeling."
   ]
  },
  {
   "cell_type": "markdown",
   "metadata": {},
   "source": [
    "### Processing"
   ]
  },
  {
   "cell_type": "code",
   "execution_count": 11,
   "metadata": {
    "tags": [
     "remove-input"
    ]
   },
   "outputs": [],
   "source": [
    "# Code processig en filterig hier\n",
    "df_temp = df_WDI_all\n",
    "for x in range(1975, 2014):\n",
    "    st = str(x) + ' [YR' + str(x) + ']'\n",
    "    df_temp = df_temp.drop(st, axis=1)\n",
    "df_WDI_processed = df_temp\n",
    "df_WDI_processed.to_csv('processed_data/WDI_2014-2024.csv', index=False)"
   ]
  },
  {
   "cell_type": "code",
   "execution_count": 12,
   "metadata": {
    "tags": [
     "remove-input"
    ]
   },
   "outputs": [],
   "source": [
    "# Laad processed data\n",
    "\n",
    "df_WDI_processed = pd.read_csv('processed_data/WDI_2014-2024.csv')\n",
    "df_WDI_processed.info()\n",
    "# df_WDI_processed.head(n-5)"
   ]
  },
  {
   "cell_type": "markdown",
   "metadata": {},
   "source": [
    "Tijdens het preprocessing hebben we:\n",
    "\n",
    "- Alleen data voor Zweden geselecteerd\n",
    "- De tijdsperiode beperkt tot 2014–2024\n",
    "- Indicatoren gefilterd op relevantie\n",
    "- Ontbrekende waarden verwijderd waar nodig."
   ]
  },
  {
   "cell_type": "markdown",
   "metadata": {},
   "source": [
    "<table>\n",
    "    <thead>\n",
    "        <tr>\n",
    "            <td></td>\n",
    "            <td>\n",
    "                Source\n",
    "            </td>\n",
    "            <td>\n",
    "                Na preprocessing\n",
    "            </td>\n",
    "        </tr>\n",
    "    </thead>\n",
    "    <tbody>\n",
    "        <tr>\n",
    "            <td>\n",
    "                Datapunten\n",
    "            </td>\n",
    "            <td>\n",
    "                209\n",
    "            </td>\n",
    "            <td>\n",
    "                11\n",
    "            </td>\n",
    "        </tr>\n",
    "        <tr>\n",
    "            <td>\n",
    "                Variabelen\n",
    "            </td>\n",
    "            <td>\n",
    "                95\n",
    "            </td>\n",
    "            <td>\n",
    "                93\n",
    "            </td>\n",
    "        </tr>\n",
    "        <tr>\n",
    "            <td>\n",
    "                Tijdspanne\n",
    "            </td>\n",
    "            <td>\n",
    "                1975 - 2025\n",
    "            </td>\n",
    "            <td>\n",
    "                2014 - 2024\n",
    "            </td>\n",
    "        </tr>\n",
    "    </tbody>\n",
    "</table>"
   ]
  },
  {
   "cell_type": "markdown",
   "metadata": {},
   "source": [
    "## Dataset 3: Annual net earnings"
   ]
  },
  {
   "cell_type": "code",
   "execution_count": 13,
   "metadata": {
    "id": "Bfg8u9iZD1oR",
    "tags": [
     "remove-input"
    ]
   },
   "outputs": [],
   "source": [
    "# Laad source dataset 3\n",
    "\n",
    "df_annual_net_earnings = pd.read_csv('dataset_sources/estat_earn_nt_net_en.csv')\n",
    "df_annual_net_earings.info()"
   ]
  },
  {
   "cell_type": "markdown",
   "metadata": {},
   "source": [
    "### Source"
   ]
  },
  {
   "cell_type": "markdown",
   "metadata": {},
   "source": [
    "<table>\n",
    "    <tr>\n",
    "        <td>\n",
    "            Bron:\n",
    "        </td>\n",
    "        <td>\n",
    "            Eurostat\n",
    "        </td>\n",
    "    </tr>\n",
    "    <tr>\n",
    "        <td>\n",
    "            Naam\n",
    "        </td>\n",
    "        <td>\n",
    "            Annual Net Earnings\n",
    "        </td>\n",
    "    </tr>\n",
    "    <tr>\n",
    "        <td>\n",
    "            URL:\n",
    "        </td>\n",
    "        <td>\n",
    "            https://ec.europa.eu/eurostat/databrowser/bookmark/6adafcb6-297e-4d27-b687-9b7c189c264c?lang=en\n",
    "        </td>\n",
    "    </tr>\n",
    "</table>"
   ]
  },
  {
   "cell_type": "markdown",
   "metadata": {},
   "source": [
    "\n",
    "Deze dataset komt van eurostat. Eurostat is van de europese commissie. Wij hebben onze 'source' dataset van de URL hierboven, met:\n",
    "\n",
    "- Row: Geopolitical entity: Sweden\n",
    "- Column: all\n",
    "- Dimensions: all"
   ]
  },
  {
   "cell_type": "markdown",
   "metadata": {},
   "source": [
    "### Beschrijving"
   ]
  },
  {
   "cell_type": "markdown",
   "metadata": {},
   "source": [
    "Deze dataset bevat de financiele gegevens voor verschillende type huishoudens in Zweden van 2014 tot 2024. De gegevens zijn weergeven in euro en in de valuta van Zweden. De dataset bevat onder andere: bruto inkomen, netto inkomen, uitkeringen, inkomstenbelasting, sociale zekerheid en het type huishouden(gezin zonder kinderen, eenverdieners, alleenstaanden, etc.). "
   ]
  },
  {
   "cell_type": "markdown",
   "metadata": {},
   "source": [
    "### Processing"
   ]
  },
  {
   "cell_type": "code",
   "execution_count": 14,
   "metadata": {
    "tags": [
     "remove-input"
    ]
   },
   "outputs": [],
   "source": [
    "# Code processing en sla op\n",
    "\n",
    "df_annual_net_earnings_processed = df_annual_net_earnings[((df_annual_net_earnings['geo'] == 'Sweden') & (df_annual_net_earnings['TIME_PERIOD'] >= 2014))].drop('geo', axis=1)\n",
    "df_annual_net_earnings_processed.to_csv('processed_data/Annual_Net_Earnings_Sweden_2014-2024.csv', index=False)"
   ]
  },
  {
   "cell_type": "code",
   "execution_count": 15,
   "metadata": {
    "tags": [
     "remove-input"
    ]
   },
   "outputs": [],
   "source": [
    "# Laad processed data\n",
    "\n",
    "df_annual_net_earnings_processed = pd.read_csv('processed_data/Annual_Net_Earnings_Sweden_2014-2024.csv')\n",
    "df_annual_net_earnings_processed.info()\n",
    "# df_annual_net_earnings_processed.head(n=5)"
   ]
  },
  {
   "cell_type": "markdown",
   "metadata": {},
   "source": [
    "Tijdens de preprocessing hebben we:\n",
    "\n",
    "- De tijdspanne beperkt tot 2014–2024\n",
    "- Enkel de relevante huishoudtypes behouden voor vergelijking\n",
    "- Zowel euro’s als SEK omgerekend naar een uniforme valuta waar nodig"
   ]
  },
  {
   "cell_type": "markdown",
   "metadata": {},
   "source": [
    "<table>\n",
    "    <thead>\n",
    "        <tr>\n",
    "            <td></td>\n",
    "            <td>\n",
    "                Source\n",
    "            </td>\n",
    "            <td>\n",
    "                Na preprocessing\n",
    "            </td>\n",
    "        </tr>\n",
    "    </thead>\n",
    "    <tbody>\n",
    "        <tr>\n",
    "            <td>\n",
    "                Datapunten\n",
    "            </td>\n",
    "            <td>\n",
    "                193548\n",
    "            </td>\n",
    "            <td>\n",
    "                5742\n",
    "            </td>\n",
    "        </tr>\n",
    "        <tr>\n",
    "            <td>\n",
    "                Variabelen\n",
    "            </td>\n",
    "            <td>\n",
    "                11\n",
    "            </td>\n",
    "            <td>\n",
    "                10\n",
    "            </td>\n",
    "        </tr>\n",
    "        <tr>\n",
    "            <td>\n",
    "                Tijdspanne\n",
    "            </td>\n",
    "            <td>\n",
    "                2000 - 2024\n",
    "            </td>\n",
    "            <td>\n",
    "                2014 - 2024\n",
    "            </td>\n",
    "        </tr>\n",
    "    </tbody>\n",
    "</table>"
   ]
  }
 ],
 "metadata": {
  "celltoolbar": "Tags",
  "colab": {
   "provenance": []
  },
  "kernelspec": {
   "display_name": "Python (jupyterbook)",
   "language": "python",
   "name": "jupyterbook"
  },
  "language_info": {
   "codemirror_mode": {
    "name": "ipython",
    "version": 3
   },
   "file_extension": ".py",
   "mimetype": "text/x-python",
   "name": "python",
   "nbconvert_exporter": "python",
   "pygments_lexer": "ipython3",
   "version": "3.10.16"
  }
 },
 "nbformat": 4,
 "nbformat_minor": 4
}
