{
 "cells": [
  {
   "cell_type": "code",
   "execution_count": 1,
   "metadata": {
    "id": "s8TViAMwCq2e",
    "tags": [
     "remove-input"
    ]
   },
   "outputs": [
    {
     "data": {
      "text/html": [
       "        <script type=\"text/javascript\">\n",
       "        window.PlotlyConfig = {MathJaxConfig: 'local'};\n",
       "        if (window.MathJax && window.MathJax.Hub && window.MathJax.Hub.Config) {window.MathJax.Hub.Config({SVG: {font: \"STIX-Web\"}});}\n",
       "        </script>\n",
       "        <script type=\"module\">import \"https://cdn.plot.ly/plotly-3.0.1.min\"</script>\n",
       "        "
      ]
     },
     "metadata": {},
     "output_type": "display_data"
    }
   ],
   "source": [
    "# All imports\n",
    "\n",
    "import pandas as pd\n",
    "import numpy as np\n",
    "import seaborn as sns\n",
    "import matplotlib.pyplot as plt\n",
    "import plotly.graph_objs as go\n",
    "import plotly.express as px\n",
    "import calendar\n",
    "\n",
    "# from pyaxis import pyaxis\n",
    "\n",
    "from plotly.offline import init_notebook_mode\n",
    "init_notebook_mode(connected=True)"
   ]
  },
  {
   "cell_type": "markdown",
   "metadata": {},
   "source": [
    "# Visualisatie"
   ]
  },
  {
   "cell_type": "code",
   "execution_count": 2,
   "metadata": {
    "tags": [
     "remove-input"
    ]
   },
   "outputs": [],
   "source": [
    "# Laad alle datasets\n",
    "\n",
    "# df_CPI_processed = pd.read_csv('processed_data/CPI_2024-2024.csv')\n",
    "df_WDI_all = pd.read_csv('dataset_sources/WDI_Data.csv')\n",
    "df_annual_net_earnings_processed = pd.read_csv('processed_data/Annual_Net_Earnings_Sweden_2014-2024.csv')"
   ]
  },
  {
   "cell_type": "markdown",
   "metadata": {},
   "source": [
    "## Perspectief 1"
   ]
  },
  {
   "cell_type": "code",
   "execution_count": 3,
   "metadata": {
    "tags": [
     "remove-input"
    ]
   },
   "outputs": [],
   "source": [
    "# Schrijf en maak visualisaties voor pespectief 1 hier; origineel te vinden in notebook.ipynb"
   ]
  },
  {
   "cell_type": "markdown",
   "metadata": {},
   "source": [
    "### Belastingen en subsidies\n",
    "\n",
    "Het netto inkomen is gestegen tussen 2014 en 2024, maar van de hogere inflatie die onstond door corona, is weinig terug te vinden in de groei van het netto loon. Daarbij komt ook dat de belastingen als onderdeel van het bruto loon in verhouding zijn gekrompen. Van 2019 naar 2020 is de persoonlijke inkomsten belasting van 57,2% naar 52,3% gegaan, tussen 2014 en 2024 een 5% punt daling [(Skatteverket via tradingeconomics)](https://tradingeconomics.com/sweden/personal-income-tax-rate).\n",
    "In de grafiek hieronder kunt u zelf ontdekken hoe het netto inkomen in verhouding staat tot andere inkomste bronnen. Uit de data is af te lezen dat de belastingen (taxes) in verhouding tot het loon zijn gedaald, dat subsidies (Social Security) gelijk & danwel groter deel uitmaken van de inkomsten van een familie*. Hieruit kunnen wij opmaken dat de inflatie van de laaste jaren nog steeds niet is ingehaald door het bruto loon.\n",
    "\n",
    "*De Zweedse overheid heeft bedrijven in kwetsbare sectoren geholpen, en ook extra financiele hulp gegeven aan kwetsbare inwoners. [(European Commission)](https://commission.europa.eu/strategy-and-policy/coronavirus-response/supporting-jobs-and-economy-during-coronavirus-pandemic/state-aid-cases/sweden_en)"
   ]
  },
  {
   "cell_type": "markdown",
   "metadata": {},
   "source": [
    "<iframe src=\"https://iv-ki-2025.onrender.com/\" width=\"100%\" height=\"600px\"></iframe>"
   ]
  },
  {
   "cell_type": "markdown",
   "metadata": {},
   "source": [
    "Gebruik: *Selecteer een voorbeeld gezin, en klik eventueel op een staaf/jaar om dat jaar te bekijken klik nogmaals om terug te gaan.*\n",
    "*Het kan 50 sec duren voordat de interactieve grafiek geladen is.*"
   ]
  },
  {
   "cell_type": "code",
   "execution_count": 4,
   "metadata": {
    "tags": [
     "remove-input"
    ]
   },
   "outputs": [],
   "source": [
    "# Schrijf en maak visualisaties voor pespectief 1 hier; origineel te vinden in notebook.ipynb"
   ]
  }
 ],
 "metadata": {
  "celltoolbar": "Tags",
  "colab": {
   "provenance": []
  },
  "kernelspec": {
   "display_name": "Python (jupyterbook)",
   "language": "python",
   "name": "jupyterbook"
  },
  "language_info": {
   "codemirror_mode": {
    "name": "ipython",
    "version": 3
   },
   "file_extension": ".py",
   "mimetype": "text/x-python",
   "name": "python",
   "nbconvert_exporter": "python",
   "pygments_lexer": "ipython3",
   "version": "3.10.16"
  }
 },
 "nbformat": 4,
 "nbformat_minor": 4
}
