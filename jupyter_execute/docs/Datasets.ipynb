{
 "cells": [
  {
   "cell_type": "markdown",
   "metadata": {},
   "source": [
    "# Datasets en Preprocessing"
   ]
  },
  {
   "cell_type": "code",
   "execution_count": 1,
   "metadata": {
    "id": "s8TViAMwCq2e"
   },
   "outputs": [
    {
     "data": {
      "text/html": [
       "        <script type=\"text/javascript\">\n",
       "        window.PlotlyConfig = {MathJaxConfig: 'local'};\n",
       "        if (window.MathJax && window.MathJax.Hub && window.MathJax.Hub.Config) {window.MathJax.Hub.Config({SVG: {font: \"STIX-Web\"}});}\n",
       "        </script>\n",
       "        <script type=\"module\">import \"https://cdn.plot.ly/plotly-3.0.1.min\"</script>\n",
       "        "
      ]
     },
     "metadata": {},
     "output_type": "display_data"
    }
   ],
   "source": [
    "# All imports\n",
    "\n",
    "import pandas as pd\n",
    "import numpy as np\n",
    "import seaborn as sns\n",
    "import matplotlib.pyplot as plt\n",
    "import plotly.graph_objs as go\n",
    "import plotly.express as px\n",
    "import calendar\n",
    "\n",
    "# from pyaxis import pyaxis\n",
    "\n",
    "from plotly.offline import init_notebook_mode\n",
    "init_notebook_mode(connected=True)"
   ]
  },
  {
   "cell_type": "markdown",
   "metadata": {},
   "source": [
    "## Dataset 1: Consumer Price Index"
   ]
  },
  {
   "cell_type": "code",
   "execution_count": 2,
   "metadata": {},
   "outputs": [],
   "source": [
    "# Load source dataset 1\n",
    "\n",
    "# CPI_url = \"dataset_sources/CPI.px\"\n",
    "# CPI_decoded = pyaxis.parse(uri = CPI_url , encoding = 'ISO-8859-2')\n",
    "# df_CPI = CPI_decoded[\"DATA\"]\n",
    "# df_CPI.to_csv('processed_data/CPI.csv', index=False)\n",
    "\n",
    "# Load converted source dataset 1\n",
    "df_CPI = pd.read_csv('processed_data/CPI.csv')\n",
    "# df_CPI.info()\n",
    "# df_CPI.head(n=5)"
   ]
  },
  {
   "cell_type": "markdown",
   "metadata": {},
   "source": [
    "### Source"
   ]
  },
  {
   "cell_type": "markdown",
   "metadata": {},
   "source": [
    "<table>\n",
    "    <tr>\n",
    "        <td>\n",
    "            Naam\n",
    "        </td>\n",
    "        <td>\n",
    "            Consumer Price Index (CPI), monthly changes, percent by economic indicator and month\n",
    "        </td>\n",
    "    </tr>\n",
    "    <tr>\n",
    "        <td>\n",
    "            Source URL\n",
    "        </td>\n",
    "        <td>\n",
    "            https://www.statistikdatabasen.scb.se/pxweb/en/ssd/START__PR__PR0101__PR0101S/SnabbStatPR0101/\n",
    "        </td>\n",
    "    </tr>\n",
    "</table>"
   ]
  },
  {
   "cell_type": "markdown",
   "metadata": {},
   "source": [
    "Deze dataset, komt van Statistics Sweden, het statestiek bureau van de Zweedse overheid. Onze 'source' dataset komt van de URL hierboven, met:\n",
    "- Observatoins: Montly changes\n",
    "- economic indicator: all\n",
    "- month: all (2014M01 t/m 2025M05)"
   ]
  },
  {
   "cell_type": "markdown",
   "metadata": {},
   "source": [
    "### Beschrijving\n",
    "TODO beschrijving dataset o.a. bevat alleen zweden"
   ]
  },
  {
   "cell_type": "markdown",
   "metadata": {},
   "source": [
    "### Processing"
   ]
  },
  {
   "cell_type": "code",
   "execution_count": 3,
   "metadata": {},
   "outputs": [],
   "source": [
    "# Code processig en filterig hier\n",
    "# TODO, Uncomment de de code hieronder, en zet de code er in; uncomment ook de load in Visualisatie.ipynb\n",
    "\n",
    "# df_CPI_processed = \n",
    "# df_CPI_processed.to_csv('processed_data/CPI_2014-2024.csv', index=False)"
   ]
  },
  {
   "cell_type": "code",
   "execution_count": 4,
   "metadata": {},
   "outputs": [],
   "source": [
    "# Laad processed data\n",
    "\n",
    "# df_CPI_processed = pd.read_csv('processed_data/CPI_2024-2024.csv')"
   ]
  },
  {
   "cell_type": "markdown",
   "metadata": {},
   "source": [
    "TODO beschrijf processing"
   ]
  },
  {
   "cell_type": "markdown",
   "metadata": {},
   "source": [
    "<table>\n",
    "    <thead>\n",
    "        <tr>\n",
    "            <td></td>\n",
    "            <td>\n",
    "                Source\n",
    "            </td>\n",
    "            <td>\n",
    "                Na preprocessing\n",
    "            </td>\n",
    "        </tr>\n",
    "    </thead>\n",
    "    <tbody>\n",
    "        <tr>\n",
    "            <td>\n",
    "                Datapunten\n",
    "            </td>\n",
    "            <td>\n",
    "                822\n",
    "            </td>\n",
    "            <td>\n",
    "                # TODO\n",
    "            </td>\n",
    "        </tr>\n",
    "        <tr>\n",
    "            <td>\n",
    "                Variabelen\n",
    "            </td>\n",
    "            <td>\n",
    "                4\n",
    "            </td>\n",
    "            <td>\n",
    "                # TODO\n",
    "            </td>\n",
    "        </tr>\n",
    "        <tr>\n",
    "            <td>\n",
    "                Tijdspanne\n",
    "            </td>\n",
    "            <td>\n",
    "                Jan 2014 - Juni 2025\n",
    "            </td>\n",
    "            <td>\n",
    "                Jan 2014 - Dec 2024\n",
    "            </td>\n",
    "        </tr>\n",
    "    </tbody>\n",
    "</table>"
   ]
  },
  {
   "cell_type": "markdown",
   "metadata": {},
   "source": [
    "## Dataset 2: World Development Indicators"
   ]
  },
  {
   "cell_type": "code",
   "execution_count": 5,
   "metadata": {},
   "outputs": [],
   "source": [
    "# Laad source dataset 2\n",
    "\n",
    "df_WDI_all = pd.read_csv('dataset_sources/WDI_Data.csv')"
   ]
  },
  {
   "cell_type": "markdown",
   "metadata": {},
   "source": [
    "### Source"
   ]
  },
  {
   "cell_type": "markdown",
   "metadata": {},
   "source": [
    "<table>\n",
    "    <tr>\n",
    "        <td>\n",
    "            Naam\n",
    "        </td>\n",
    "        <td>\n",
    "            World Development Indicators\n",
    "        </td>\n",
    "    </tr>\n",
    "    <tr>\n",
    "        <td>\n",
    "            Source URL\n",
    "        </td>\n",
    "        <td>\n",
    "            https://databank.worldbank.org/source/world-development-indicators\n",
    "        </td>\n",
    "    </tr>\n",
    "</table>"
   ]
  },
  {
   "cell_type": "markdown",
   "metadata": {},
   "source": [
    "Deze dataset, komt van World Bank Group. Onze 'source' dataset komt van de URL hierboven, met:\n",
    "- Database: World Development Indicators\n",
    "- Country: Sweden\n",
    "- Series: Economic Policy & Debt (all), Financial Sector (all), Poverty (all)\n",
    "- Time: all (1975 - 2024)"
   ]
  },
  {
   "cell_type": "markdown",
   "metadata": {},
   "source": [
    "### Beschrijving\n",
    "TODO"
   ]
  },
  {
   "cell_type": "markdown",
   "metadata": {},
   "source": [
    "### Processing"
   ]
  },
  {
   "cell_type": "code",
   "execution_count": 6,
   "metadata": {},
   "outputs": [],
   "source": [
    "# Code processig en filterig hier\n",
    "df_temp = df_WDI_all\n",
    "for x in range(1975, 2014):\n",
    "    st = str(x) + ' [YR' + str(x) + ']'\n",
    "    df_temp = df_temp.drop(st, axis=1)\n",
    "df_WDI_processed = df_temp\n",
    "df_WDI_processed.to_csv('processed_data/WDI_2014-2024.csv', index=False)"
   ]
  },
  {
   "cell_type": "code",
   "execution_count": 7,
   "metadata": {},
   "outputs": [],
   "source": [
    "# Laad processed data\n",
    "\n",
    "df_WDI_processed = pd.read_csv('processed_data/WDI_2014-2024.csv')\n",
    "# df_WDI_processed.info()\n",
    "# df_WDI_processed.head(n-5)"
   ]
  },
  {
   "cell_type": "markdown",
   "metadata": {},
   "source": [
    "TODO beschrijf processing"
   ]
  },
  {
   "cell_type": "markdown",
   "metadata": {},
   "source": [
    "<table>\n",
    "    <thead>\n",
    "        <tr>\n",
    "            <td></td>\n",
    "            <td>\n",
    "                Source\n",
    "            </td>\n",
    "            <td>\n",
    "                Na preprocessing\n",
    "            </td>\n",
    "        </tr>\n",
    "    </thead>\n",
    "    <tbody>\n",
    "        <tr>\n",
    "            <td>\n",
    "                Datapunten\n",
    "            </td>\n",
    "            <td>\n",
    "                # TODO\n",
    "            </td>\n",
    "            <td>\n",
    "                # TODO\n",
    "            </td>\n",
    "        </tr>\n",
    "        <tr>\n",
    "            <td>\n",
    "                Variabelen\n",
    "            </td>\n",
    "            <td>\n",
    "                # TODO\n",
    "            </td>\n",
    "            <td>\n",
    "                # TODO\n",
    "            </td>\n",
    "        </tr>\n",
    "        <tr>\n",
    "            <td>\n",
    "                Tijdspanne\n",
    "            </td>\n",
    "            <td>\n",
    "                1975 - 2025\n",
    "            </td>\n",
    "            <td>\n",
    "                2014 - 2024\n",
    "            </td>\n",
    "        </tr>\n",
    "    </tbody>\n",
    "</table>"
   ]
  },
  {
   "cell_type": "markdown",
   "metadata": {},
   "source": [
    "## Dataset 3: Annual net earnings"
   ]
  },
  {
   "cell_type": "code",
   "execution_count": 8,
   "metadata": {
    "id": "Bfg8u9iZD1oR"
   },
   "outputs": [],
   "source": [
    "# Laad source dataset 3\n",
    "\n",
    "df_annual_net_earnings = pd.read_csv('dataset_sources/estat_earn_nt_net_en.csv')"
   ]
  },
  {
   "cell_type": "markdown",
   "metadata": {},
   "source": [
    "### Source"
   ]
  },
  {
   "cell_type": "markdown",
   "metadata": {},
   "source": [
    "<table>\n",
    "    <tr>\n",
    "        <td>\n",
    "            Naam\n",
    "        </td>\n",
    "        <td>\n",
    "            Annual net earnings\n",
    "        </td>\n",
    "    </tr>\n",
    "    <tr>\n",
    "        <td>\n",
    "            Source URL\n",
    "        </td>\n",
    "        <td>\n",
    "            https://ec.europa.eu/eurostat/databrowser/bookmark/6adafcb6-297e-4d27-b687-9b7c189c264c?lang=en\n",
    "        </td>\n",
    "    </tr>\n",
    "</table>"
   ]
  },
  {
   "cell_type": "markdown",
   "metadata": {},
   "source": [
    "Deze dataset komt van eurostat. Eurostat is van de europese commissie. Wij hebben onze 'source' dataset van de URL hierboven, met:\n",
    "- Row: Geopolitical entity: Sweden\n",
    "- Column: all\n",
    "- Dimensions: all"
   ]
  },
  {
   "cell_type": "markdown",
   "metadata": {},
   "source": [
    "### Beschrijving"
   ]
  },
  {
   "cell_type": "markdown",
   "metadata": {},
   "source": [
    "TODO"
   ]
  },
  {
   "cell_type": "markdown",
   "metadata": {},
   "source": [
    "### Processing"
   ]
  },
  {
   "cell_type": "code",
   "execution_count": 9,
   "metadata": {},
   "outputs": [],
   "source": [
    "# Code processing en sla op\n",
    "\n",
    "df_annual_net_earnings_processed = df_annual_net_earnings[((df_annual_net_earnings['geo'] == 'Sweden') & (df_annual_net_earnings['TIME_PERIOD'] >= 2014))].drop('geo', axis=1)\n",
    "df_annual_net_earnings_processed.to_csv('processed_data/Annual_Net_Earnings_Sweden_2014-2024.csv', index=False)"
   ]
  },
  {
   "cell_type": "code",
   "execution_count": 10,
   "metadata": {},
   "outputs": [],
   "source": [
    "# Laad processed data\n",
    "\n",
    "df_annual_net_earnings_processed = pd.read_csv('processed_data/Annual_Net_Earnings_Sweden_2014-2024.csv')\n",
    "# df_annual_net_earnings_processed.info()\n",
    "# df_annual_net_earnings_processed.head(n=5)"
   ]
  },
  {
   "cell_type": "markdown",
   "metadata": {},
   "source": [
    "<table>\n",
    "    <thead>\n",
    "        <tr>\n",
    "            <td></td>\n",
    "            <td>\n",
    "                Source\n",
    "            </td>\n",
    "            <td>\n",
    "                Na preprocessing\n",
    "            </td>\n",
    "        </tr>\n",
    "    </thead>\n",
    "    <tbody>\n",
    "        <tr>\n",
    "            <td>\n",
    "                Datapunten\n",
    "            </td>\n",
    "            <td>\n",
    "                # TODO\n",
    "            </td>\n",
    "            <td>\n",
    "                # TODO\n",
    "            </td>\n",
    "        </tr>\n",
    "        <tr>\n",
    "            <td>\n",
    "                Variabelen\n",
    "            </td>\n",
    "            <td>\n",
    "                # TODO\n",
    "            </td>\n",
    "            <td>\n",
    "                # TODO\n",
    "            </td>\n",
    "        </tr>\n",
    "        <tr>\n",
    "            <td>\n",
    "                Tijdspanne\n",
    "            </td>\n",
    "            <td>\n",
    "                2000 - 2024\n",
    "            </td>\n",
    "            <td>\n",
    "                2014 - 2024\n",
    "            </td>\n",
    "        </tr>\n",
    "    </tbody>\n",
    "</table>"
   ]
  }
 ],
 "metadata": {
  "colab": {
   "provenance": []
  },
  "kernelspec": {
   "display_name": "Python 3 (ipykernel)",
   "language": "python",
   "name": "python3"
  },
  "language_info": {
   "codemirror_mode": {
    "name": "ipython",
    "version": 3
   },
   "file_extension": ".py",
   "mimetype": "text/x-python",
   "name": "python",
   "nbconvert_exporter": "python",
   "pygments_lexer": "ipython3",
   "version": "3.10.17"
  }
 },
 "nbformat": 4,
 "nbformat_minor": 4
}